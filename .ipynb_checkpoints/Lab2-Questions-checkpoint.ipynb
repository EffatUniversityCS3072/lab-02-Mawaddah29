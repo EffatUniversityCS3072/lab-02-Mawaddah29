{
 "cells": [
  {
   "cell_type": "markdown",
   "id": "582fd51e",
   "metadata": {},
   "source": [
    "# Lab 2: numpy\n",
    "\n",
    "#### Practice Exercise 1\n",
    "\n",
    "Create the following NumPy arrays: \n",
    "1. A 1-D array called zeros having 10 elements and all the elements are set to zero. \n",
    "2. A 1-D array called vowels having the elements ‘a’, ‘e’, ‘i’, ‘o’ and ‘u’. \n",
    "3. A 2-D array called ones having 2 rows and 5 columns and all the elements are set to 1 and dtype as int. \n",
    "4. Use nested Python lists to create a 2-D array called myarray1 having 3 rows and 3 columns and store the following data: 2.7,  0,  -2,  3.4,  10.6,  0,  -19 99.9 13 \n",
    "5. A 2-D array called myarray2 using arange() having 3 rows and 5 columns with start value = 4, step size 4 and dtype as float\n"
   ]
  },
  {
   "cell_type": "code",
   "execution_count": 11,
   "id": "9195d139",
   "metadata": {},
   "outputs": [
    {
     "data": {
      "text/plain": [
       "array([[ 4.,  8., 12., 16., 20.],\n",
       "       [24., 28., 32., 36., 40.],\n",
       "       [44., 48., 52., 56., 60.]])"
      ]
     },
     "execution_count": 11,
     "metadata": {},
     "output_type": "execute_result"
    }
   ],
   "source": [
    "import numpy as np \n",
    "\n",
    "#1\n",
    "zeros = np.zeros(10)\n",
    "zeros\n",
    "\n",
    "#2\n",
    "vowels = np.array(['a','e','i','o','u'])\n",
    "\n",
    "#3\n",
    "ones = np.ones(10, dtype=int).reshape(2,5)\n",
    "ones\n",
    "\n",
    "#4\n",
    "myarray1=np.array([[2.7, 0, -2],[3.4, 10.6, 0],[-19, 99.9, 13]])\n",
    "myarray1\n",
    "\n",
    "#5\n",
    "myarray2=np.arange(4,4+(4*15),4,dtype=float).reshape(3,5) #end value is 4+(4*15) => start value + 4+(3*5)\n",
    "myarray2\n"
   ]
  },
  {
   "cell_type": "markdown",
   "id": "2d3fc3a8",
   "metadata": {},
   "source": [
    "Using the arrays created in Question above, write NumPy commands for the following: \n",
    "1. Find the dimensions, shape, size, data type of the items and itemsize of arrays zeros, vowels, ones, myarray1 and myarray2. \n",
    "2. Reshape the array ones to have all the 10 elements in a single row. \n",
    "3. Display the 2nd and 3rd element of the array vowels. \n",
    "4. Display all elements in the 2nd and 3rd row of the array myarray1. \n",
    "5. Display the elements in the 1st and 2nd column of the array myarray1. \n",
    "6. Display the elements in the 1st column of the 2nd and 3rd row of the array myarray1. \n",
    "7. Reverse the array of vowels."
   ]
  },
  {
   "cell_type": "code",
   "execution_count": 34,
   "id": "fc69c3db",
   "metadata": {},
   "outputs": [
    {
     "data": {
      "text/plain": [
       "array(['u', 'o', 'i', 'e', 'a'], dtype='<U1')"
      ]
     },
     "execution_count": 34,
     "metadata": {},
     "output_type": "execute_result"
    }
   ],
   "source": [
    "#Write your answer here\n",
    "#1\n",
    "q1=myarray2.ndim, myarray2.size, myarray2.dtype, myarray2.itemsize, myarray2.shape\n",
    "\n",
    "#2\n",
    "q2=ones = ones.reshape(1,10)\n",
    "ones.shape\n",
    "\n",
    "#3\n",
    "q3=vowels[1:3]\n",
    "\n",
    "#4\n",
    "q4=myarray1[1:3, ]\n",
    "\n",
    "#5\n",
    "q5=myarray1[ : ,0:2 ]\n",
    "\n",
    "#6\n",
    "q6=myarray1[ 1:3 , 0:1]\n",
    "\n",
    "#7\n",
    "q7=vowels[::-1]\n"
   ]
  },
  {
   "cell_type": "markdown",
   "id": "e1edb3bb",
   "metadata": {},
   "source": [
    "Using the arrays created in Question above, write NumPy commands for the following:\n",
    "1. Divide all elements of array ones by 3. \n",
    "2. Add the arrays myarray1 and myarray2. \n",
    "3. Subtract myarray1 from myarray2 and store the result in a new array. \n",
    "4. Multiply myarray1 and myarray2 elementwise. \n",
    "5. Do the matrix multiplication of myarray1 and myarray2 and store the result in a new array myarray3. \n",
    "6. Divide myarray1 by myarray2. \n",
    "7. Find the cube of all elements of myarray1 and divide the resulting array by 2. \n",
    "8. Find the square root of all elements of myarray2   and divide the resulting array by 2. The result  should be rounded to two places of decimals."
   ]
  },
  {
   "cell_type": "code",
   "execution_count": 66,
   "id": "3c933386",
   "metadata": {},
   "outputs": [
    {
     "data": {
      "text/plain": [
       "array([[1.  , 1.41, 1.73, 2.  , 2.24],\n",
       "       [2.45, 2.65, 2.83, 3.  , 3.16],\n",
       "       [3.32, 3.46, 3.61, 3.74, 3.87]])"
      ]
     },
     "execution_count": 66,
     "metadata": {},
     "output_type": "execute_result"
    }
   ],
   "source": [
    "# Write your answer here\n",
    "import numpy as np \n",
    "#1\n",
    "q1=ones/3\n",
    "\n",
    "#2\n",
    "q2=myarray2[:,:3]+ myarray1\n",
    "\n",
    "#3\n",
    "q3 = myarray2[:, :3] - myarray1 \n",
    "\n",
    "#4\n",
    "q4 = myarray1 * myarray2[:, :3]\n",
    "\n",
    "#5\n",
    "q5 = myarray1 @ myarray2[:, :3] \n",
    "\n",
    "#6\n",
    "q6 = myarray1 / myarray2[:, :3] \n",
    "\n",
    "#7\n",
    "q7=(myarray1 **3)/2\n",
    "\n",
    "#8\n",
    "np.round(np.sqrt(myarray2)/2,2)\n",
    "\n",
    "\n",
    "\n"
   ]
  },
  {
   "cell_type": "markdown",
   "id": "d8aafc74",
   "metadata": {},
   "source": [
    "Using the arrays created above, write NumPy commands for the following: \n",
    "1. Find the transpose of ones and myarray2. \n",
    "2. Sort the array vowels in reverse. \n",
    "3. Sort the array myarray1 such that it brings the lowest value of the column in the first row and so on."
   ]
  },
  {
   "cell_type": "code",
   "execution_count": 69,
   "id": "573c6506",
   "metadata": {},
   "outputs": [
    {
     "name": "stdout",
     "output_type": "stream",
     "text": [
      "[[  2.7   0.   -2. ]\n",
      " [  3.4  10.6   0. ]\n",
      " [-19.   99.9  13. ]]\n",
      "[[ -2.    0.    2.7]\n",
      " [  0.    3.4  10.6]\n",
      " [-19.   13.   99.9]]\n",
      "[[-19.    0.   -2. ]\n",
      " [  2.7  10.6   0. ]\n",
      " [  3.4  99.9  13. ]]\n"
     ]
    }
   ],
   "source": [
    "# Write your answer here\n",
    "#1\n",
    "np.transpose(myarray2)          #or \"myarray2.T\"\n",
    "\n",
    "#2\n",
    "vowels_reverse = np.sort(vowels)[::-1]\n",
    "vowels_reverse\n",
    "\n",
    "#3\n",
    "print(myarray1)\n",
    "print(np.sort(myarray1))\n",
    "print(np.sort(myarray1, 0))  \n",
    "\n",
    "\n"
   ]
  },
  {
   "cell_type": "markdown",
   "id": "93546856",
   "metadata": {},
   "source": [
    "Create a 2-D array called myarray4 using arange() having 14 rows and 3 columns with start value = -1, step size 0.25 having. Split this array row wise into 3 equal parts and print the result. "
   ]
  },
  {
   "cell_type": "code",
   "execution_count": 53,
   "id": "441dd934",
   "metadata": {},
   "outputs": [
    {
     "data": {
      "text/plain": [
       "[array([[-1.  , -0.75, -0.5 ],\n",
       "        [-0.25,  0.  ,  0.25],\n",
       "        [ 0.5 ,  0.75,  1.  ],\n",
       "        [ 1.25,  1.5 ,  1.75],\n",
       "        [ 2.  ,  2.25,  2.5 ]]),\n",
       " array([[2.75, 3.  , 3.25],\n",
       "        [3.5 , 3.75, 4.  ],\n",
       "        [4.25, 4.5 , 4.75],\n",
       "        [5.  , 5.25, 5.5 ],\n",
       "        [5.75, 6.  , 6.25]]),\n",
       " array([[6.5 , 6.75, 7.  ],\n",
       "        [7.25, 7.5 , 7.75],\n",
       "        [8.  , 8.25, 8.5 ],\n",
       "        [8.75, 9.  , 9.25]])]"
      ]
     },
     "execution_count": 53,
     "metadata": {},
     "output_type": "execute_result"
    }
   ],
   "source": [
    "# Write your answer here\n",
    "\n",
    "myarray4 = np.arange(-1, -1 + 14*3*0.25, 0.25).reshape(14,3)\n",
    "np.array_split(myarray4,3)\n"
   ]
  },
  {
   "cell_type": "markdown",
   "id": "b5fb77f8",
   "metadata": {},
   "source": []
  },
  {
   "cell_type": "raw",
   "id": "7747c246",
   "metadata": {},
   "source": []
  },
  {
   "cell_type": "code",
   "execution_count": null,
   "id": "635fd266",
   "metadata": {},
   "outputs": [],
   "source": [
    "Using the myarray4 created in the above questions, write commands for the following: \n",
    "1. Find the sum of all elements. \n",
    "2. Find the sum of all elements row wise\n",
    "3. Find the sum of all elements column wise. \n",
    "4. Find the max of all elements. \n",
    "5. Find the min of all elements in each row. \n",
    "6. Find the mean of all elements in each row. \n",
    "7. Find the standard deviation column wise."
   ]
  },
  {
   "cell_type": "code",
   "execution_count": 73,
   "id": "66af8b55",
   "metadata": {},
   "outputs": [
    {
     "name": "stdout",
     "output_type": "stream",
     "text": [
      "Sum of all elements: 173.25\n",
      "Sum of all elements row-wise: [-2.25  0.    2.25  4.5   6.75  9.   11.25 13.5  15.75 18.   20.25 22.5\n",
      " 24.75 27.  ]\n",
      "Sum of all elements column-wise: [54.25 57.75 61.25]\n",
      "Max of all elements: 9.25\n",
      "Min of all elements in each row: [-1.   -0.25  0.5   1.25  2.    2.75  3.5   4.25  5.    5.75  6.5   7.25\n",
      "  8.    8.75]\n",
      "Mean of all elements in each row: [-0.75  0.    0.75  1.5   2.25  3.    3.75  4.5   5.25  6.    6.75  7.5\n",
      "  8.25  9.  ]\n",
      "Standard deviation column-wise: [3.02334666 3.02334666 3.02334666]\n"
     ]
    }
   ],
   "source": [
    "# Write your ansewr here\n",
    "#1\n",
    "sum_all_elements = np.sum(myarray4)\n",
    "print(\"Sum of all elements:\", sum_all_elements)\n",
    "\n",
    "#2\n",
    "sum_row_wise = np.sum(myarray4, axis=1) \n",
    "print(\"Sum of all elements row-wise:\", sum_row_wise)\n",
    "\n",
    "#3\n",
    "sum_column_wise = np.sum(myarray4, axis=0)  # axis=0 for column-wise sum\n",
    "print(\"Sum of all elements column-wise:\", sum_column_wise)\n",
    "\n",
    "#4\n",
    "max_all_elements = np.max(myarray4)\n",
    "print(\"Max of all elements:\", max_all_elements)\n",
    "\n",
    "#5\n",
    "min_per_row = np.min(myarray4, axis=1)  # axis=1 for row-wise min\n",
    "print(\"Min of all elements in each row:\", min_per_row)\n",
    "\n",
    "#6\n",
    "mean_per_row = np.mean(myarray4, axis=1)  # axis=1 for row-wise mean\n",
    "print(\"Mean of all elements in each row:\", mean_per_row)\n",
    "\n",
    "#7\n",
    "std_dev_column_wise = np.std(myarray4, axis=0)  # axis=0 for column-wise std dev\n",
    "print(\"Standard deviation column-wise:\", std_dev_column_wise)"
   ]
  },
  {
   "cell_type": "markdown",
   "id": "8d7e1dca",
   "metadata": {},
   "source": [
    "#### Practice Exercise 2\n",
    "Read the coordinates of the capital cities of the world from the country-capital-lat-long-population.csv file. Use NumPy to print the name and coordinates of the capital city closest to the Saudi Arabia capital - Riyadh.\n",
    "\n",
    "Note that:\n",
    "\n",
    "1. The Country Name for Saudi Arabia is given as Saudi Arabia in the data.\n",
    "2. The ‘closeness’ of capital cities from the Saudi Arabia capital is based on the Euclidean distance of their coordinates to those of the Saudi Arabia capital.\n",
    "\n",
    "\n",
    "Hints:\n",
    "\n",
    "1. Use read_html() from the Pandas library to read the table.\n",
    "2. Use the to_numpy() function of the Pandas DataFrame class to convert a DataFrame to a Numpy array\n",
    "3. Use broadcasting to compute the euclidean distance of capital cities from Riyadh."
   ]
  },
  {
   "cell_type": "code",
   "execution_count": 78,
   "id": "ab6b9725",
   "metadata": {},
   "outputs": [
    {
     "data": {
      "text/plain": [
       "Country                     Bahrain\n",
       "Capital City    Al-Manamah (Manama)\n",
       "Latitude                    26.2154\n",
       "Longitude                   50.5832\n",
       "Population                   564631\n",
       "Capital Type                Capital\n",
       "Name: 15, dtype: object"
      ]
     },
     "execution_count": 78,
     "metadata": {},
     "output_type": "execute_result"
    }
   ],
   "source": [
    "# Write your answer here\n",
    "import pandas as pd\n",
    "import numpy as np\n",
    "\n",
    "capitals=pd.read_csv('country-capital-lat-long-population.csv')\n",
    "capitals.head()\n",
    "capitals_location=capitals.loc[:, ['Latitude','Longitude']].to_numpy()\n",
    "KSA_location=capitals.loc[capitals.Country=='Saudi Arabia', ['Latitude','Longitude']].to_numpy()\n",
    "Distance_from_riyadh= np.sqrt(np.sum((KSA_location - capitals_location)**2, axis =1))\n",
    "Distance_from_riyadh[Distance_from_riyadh==0]=9999\n",
    "\n",
    "closest_capitals_index=np.argmin(Distance_from_riyadh)\n",
    "capitals.iloc[closest_capitals_index,:]"
   ]
  },
  {
   "cell_type": "markdown",
   "id": "1fdbec05",
   "metadata": {},
   "source": [
    "#### Practical Exercise 2\n",
    "\n",
    "Use NumPy to:\n",
    "\n",
    "1. Print the names of the countries of the top 10 capital cities closest to the US capital - Washington DC.\n",
    "\n",
    "2. Create and print a NumPy array containing the coordinates of the top 10 cities."
   ]
  },
  {
   "cell_type": "code",
   "execution_count": 89,
   "id": "45046a85",
   "metadata": {},
   "outputs": [
    {
     "name": "stdout",
     "output_type": "stream",
     "text": [
      "Columns in the DataFrame: ['Country', 'Capital City', 'Latitude', 'Longitude', 'Population', 'Capital Type']\n",
      "Top 10 closest capital cities to Washington DC:\n",
      "                       Country  Latitude  Longitude\n",
      "36                      Canada   45.4166   -75.6980\n",
      "14                     Bahamas   25.0582   -77.3431\n",
      "22                     Bermuda   32.2915   -64.7780\n",
      "55                        Cuba   23.1195   -82.3785\n",
      "215   Turks and Caicos Islands   21.4612   -71.1419\n",
      "38              Cayman Islands   19.2866   -81.3744\n",
      "94                       Haiti   18.5392   -72.3350\n",
      "107                    Jamaica   17.9970   -76.7936\n",
      "64          Dominican Republic   18.4896   -69.9018\n",
      "177  Saint Pierre and Miquelon   46.7738   -56.1815\n",
      "\n",
      "Coordinates of the top 10 closest capital cities:\n",
      "[[ 45.4166 -75.698 ]\n",
      " [ 25.0582 -77.3431]\n",
      " [ 32.2915 -64.778 ]\n",
      " [ 23.1195 -82.3785]\n",
      " [ 21.4612 -71.1419]\n",
      " [ 19.2866 -81.3744]\n",
      " [ 18.5392 -72.335 ]\n",
      " [ 17.997  -76.7936]\n",
      " [ 18.4896 -69.9018]\n",
      " [ 46.7738 -56.1815]]\n"
     ]
    }
   ],
   "source": [
    "import pandas as pd\n",
    "import numpy as np\n",
    "\n",
    "print(\"Columns in the DataFrame:\", capitals.columns.tolist())\n",
    "\n",
    "\n",
    "USA_location = capitals.loc[capitals['Country'] == 'United States of America', ['Latitude', 'Longitude']].to_numpy()[0]\n",
    "\n",
    "\n",
    "capitals_location = capitals[['Latitude', 'Longitude']].to_numpy()\n",
    "\n",
    "Distance_from_washington = np.linalg.norm(capitals_location - USA_location, axis=1)\n",
    "\n",
    "\n",
    "Distance_from_washington[Distance_from_washington == 0] = np.inf\n",
    "\n",
    "closest_capitals_indices = np.argsort(Distance_from_washington)[:10]\n",
    "\n",
    "\n",
    "print(\"Top 10 closest capital cities to Washington DC:\")\n",
    "print(capitals.iloc[closest_capitals_indices][['Country', 'Latitude', 'Longitude']])\n",
    "print(\"\\nCoordinates of the top 10 closest capital cities:\")\n",
    "print(capitals_location[closest_capitals_indices])\n"
   ]
  },
  {
   "cell_type": "code",
   "execution_count": null,
   "id": "0cdfe988",
   "metadata": {},
   "outputs": [],
   "source": []
  },
  {
   "cell_type": "code",
   "execution_count": null,
   "id": "c43fc0be",
   "metadata": {},
   "outputs": [],
   "source": []
  }
 ],
 "metadata": {
  "kernelspec": {
   "display_name": "Python 3 (ipykernel)",
   "language": "python",
   "name": "python3"
  },
  "language_info": {
   "codemirror_mode": {
    "name": "ipython",
    "version": 3
   },
   "file_extension": ".py",
   "mimetype": "text/x-python",
   "name": "python",
   "nbconvert_exporter": "python",
   "pygments_lexer": "ipython3",
   "version": "3.10.9"
  }
 },
 "nbformat": 4,
 "nbformat_minor": 5
}
